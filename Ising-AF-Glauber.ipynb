{
 "cells": [
  {
   "cell_type": "code",
   "execution_count": 1,
   "id": "5f4f09ac",
   "metadata": {},
   "outputs": [],
   "source": [
    "import numpy as np\n",
    "from matplotlib import pyplot as plt \n",
    "import time\n"
   ]
  },
  {
   "cell_type": "code",
   "execution_count": 55,
   "id": "42ef48a8",
   "metadata": {},
   "outputs": [],
   "source": [
    "### First we will make a method to generate the spin configuration randomly\n",
    "def gen_rand_spin(L):\n",
    "    spins = np.random.randint(0,2,(L,L))*2.-1.\n",
    "    \n",
    "    return spins\n",
    "\n",
    "### This generates a perfectly ordered Neel state\n",
    "def gen_Neel(L):\n",
    "    spins = np.ones((L,L))\n",
    "    for x in range(L):\n",
    "        for y in range(L):\n",
    "            spins[x,y] = (-1)**(x+y)\n",
    "        \n",
    "    return spins\n",
    "\n",
    "### This method will randomly select a site and perform the stochastic spin update\n",
    "### Returns the spin configuration after the update\n",
    "def update(spins,t):\n",
    "    L = len(spins)\n",
    "    x = np.random.randint(0,L)\n",
    "    y = np.random.randint(0,L)\n",
    "    \n",
    "    ### We now retrieve the spins neighboring x,y\n",
    "    ### We then compute the change in energy\n",
    "    deltaE = -2.*(spins[(x+1)//L,y] + spins[x-1,y] + spins[x,(y+1)//L] + spins[x,y-1])*spins[x,y]\n",
    "    \n",
    "    ### We now accept this flip with a probability of 1/(1+exp(deltaE/t))\n",
    "    threshold = min(1.,np.exp(-deltaE/t))\n",
    "    \n",
    "    r = np.random.ranf()\n",
    "    \n",
    "    if r < threshold:\n",
    "        spins[x,y] *= -1\n",
    "        \n",
    "    return spins\n",
    "\n",
    "### This code runs the stochastic dynamics for specified time and system size and temperature and returns a trajectory\n",
    "def run_sim(L,nsteps,temp):\n",
    "\n",
    "    \n",
    "    s = np.zeros((L,L,nsteps))\n",
    "    s[:,:,0] = gen_Neel(L)\n",
    "\n",
    "    for i in range(1,nsteps):\n",
    "        s[:,:,i] = update(s[:,:,i-1],temp)\n",
    "        \n",
    "    return s\n"
   ]
  },
  {
   "cell_type": "code",
   "execution_count": 63,
   "id": "fc9aee49",
   "metadata": {},
   "outputs": [
    {
     "data": {
      "image/png": "[encoded data removed]",
      "text/plain": [
       "<Figure size 432x288 with 1 Axes>"
      ]
     },
     "metadata": {
      "needs_background": "light"
     },
     "output_type": "display_data"
    },
    {
     "data": {
      "image/png": "[encoded data removed]",
      "text/plain": [
       "<Figure size 432x288 with 1 Axes>"
      ]
     },
     "metadata": {
      "needs_background": "light"
     },
     "output_type": "display_data"
    }
   ],
   "source": [
    "nsteps = 100000\n",
    "L = 40\n",
    "t = 0.05\n",
    "s = run_sim(L,nsteps,t)\n",
    "\n",
    "plt.imshow(s[:,:,0])\n",
    "plt.show()\n",
    "\n",
    "plt.imshow(s[:,:,10])\n",
    "plt.show()"
   ]
  },
  {
   "cell_type": "code",
   "execution_count": null,
   "id": "8ffea92e",
   "metadata": {},
   "outputs": [],
   "source": []
  },
  {
   "cell_type": "code",
   "execution_count": null,
   "id": "ab4b9c5a",
   "metadata": {},
   "outputs": [],
   "source": []
  }
 ],
 "metadata": {
  "kernelspec": {
   "display_name": "Python 3 (ipykernel)",
   "language": "python",
   "name": "python3"
  },
  "language_info": {
   "codemirror_mode": {
    "name": "ipython",
    "version": 3
   },
   "file_extension": ".py",
   "mimetype": "text/x-python",
   "name": "python",
   "nbconvert_exporter": "python",
   "pygments_lexer": "ipython3",
   "version": "3.10.12"
  }
 },
 "nbformat": 4,
 "nbformat_minor": 5
}
